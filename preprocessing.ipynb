{
 "cells": [
  {
   "cell_type": "markdown",
   "id": "f0cc1129",
   "metadata": {},
   "source": [
    "### Kullanılacak kütüphanelerin yüklenmesi."
   ]
  },
  {
   "cell_type": "code",
   "execution_count": 2,
   "id": "bf14d30d",
   "metadata": {},
   "outputs": [],
   "source": [
    "import numpy as np\n",
    "from PIL import Image\n",
    "import glob\n",
    "from sklearn.model_selection import train_test_split"
   ]
  },
  {
   "cell_type": "markdown",
   "id": "657bc6f5",
   "metadata": {},
   "source": [
    "### x ve y listelerinin oluşturulması."
   ]
  },
  {
   "cell_type": "code",
   "execution_count": 4,
   "id": "0b37d1fe",
   "metadata": {},
   "outputs": [],
   "source": [
    "x = []\n",
    "y = []"
   ]
  },
  {
   "cell_type": "markdown",
   "id": "e405ace0",
   "metadata": {},
   "source": [
    "### Fotoğrafların boyutlarını tekrar düzenlemede tam bölünme sağlamak adına ekstra piksel eklemede kullanmak üzere sıfırlardan oluşan array oluşturulması."
   ]
  },
  {
   "cell_type": "code",
   "execution_count": 5,
   "id": "ef1a0139",
   "metadata": {},
   "outputs": [],
   "source": [
    "zeros1 = np.zeros((1,500))\n",
    "zeros2 = np.zeros((384,1))"
   ]
  },
  {
   "cell_type": "markdown",
   "id": "41cb4b48",
   "metadata": {},
   "source": [
    "### Fotoğrafların klasör üzerinden sıra ile okunması ardından tekrar boyutlandırılması."
   ]
  },
  {
   "cell_type": "code",
   "execution_count": 6,
   "id": "266ae81f",
   "metadata": {},
   "outputs": [],
   "source": [
    "for k in range(10):\n",
    "    myString = \"C:/python_projects/urban_sounds_classification/spectrograms/\" + str(k) + \"/*.png\"\n",
    "    path = glob.glob(myString)\n",
    "\n",
    "    for file in path:\n",
    "        image = Image.open(file)\n",
    "        image = image.convert(\"L\")\n",
    "        data = np.array(image)\n",
    "        for i in range(5):\n",
    "            data = np.concatenate((data, zeros1), axis=0)\n",
    "            data = np.concatenate((zeros1, data), axis=0)\n",
    "        for i in range(6):\n",
    "            data = np.concatenate((data,zeros2), axis=1)\n",
    "            data = np.concatenate((zeros2,data), axis=1)\n",
    "\n",
    "        resizedData = []\n",
    "\n",
    "        for i in range(0,384,4):\n",
    "            myRow = []\n",
    "            for j in range(0,512,4):\n",
    "                myCell = (data[i:i+4,j:j+4])\n",
    "                max = np.max(myCell)\n",
    "                myRow.append(max)\n",
    "\n",
    "            resizedData.append(myRow)\n",
    "\n",
    "        x.append(resizedData)\n",
    "        y.append(k)\n",
    "\n",
    "x = np.array(x)\n",
    "y = np.array(y)"
   ]
  },
  {
   "cell_type": "markdown",
   "id": "f5f80eb1",
   "metadata": {},
   "source": [
    "### x dizisinin normalize edilmesi"
   ]
  },
  {
   "cell_type": "code",
   "execution_count": 9,
   "id": "60375937",
   "metadata": {},
   "outputs": [],
   "source": [
    "x = x / 255"
   ]
  },
  {
   "cell_type": "markdown",
   "id": "f9d27034",
   "metadata": {},
   "source": [
    "### x ve y dizilerinin test, train ve validation olarak ayrılması."
   ]
  },
  {
   "cell_type": "code",
   "execution_count": 10,
   "id": "5518d177",
   "metadata": {},
   "outputs": [],
   "source": [
    "x_train, x_test, y_train, y_test = train_test_split(x,y, test_size = 0.2)\n",
    "x_test, x_val, y_test, y_val = train_test_split(x_test, y_test, test_size = 0.5)"
   ]
  },
  {
   "cell_type": "markdown",
   "id": "c3e8248b",
   "metadata": {},
   "source": [
    "### Ayrılmış dizilerin bilgisayara kaydedilmesi"
   ]
  },
  {
   "cell_type": "code",
   "execution_count": null,
   "id": "ad06a4f7",
   "metadata": {},
   "outputs": [],
   "source": [
    "np.save(\"x_train\", x_train)\n",
    "np.save(\"x_test\", x_test)\n",
    "np.save(\"x_val\", x_val)\n",
    "np.save(\"y_train\", y_train)\n",
    "np.save(\"y_test\", y_test)\n",
    "np.save(\"y_val\", y_val)"
   ]
  }
 ],
 "metadata": {
  "kernelspec": {
   "display_name": "Python 3 (ipykernel)",
   "language": "python",
   "name": "python3"
  },
  "language_info": {
   "codemirror_mode": {
    "name": "ipython",
    "version": 3
   },
   "file_extension": ".py",
   "mimetype": "text/x-python",
   "name": "python",
   "nbconvert_exporter": "python",
   "pygments_lexer": "ipython3",
   "version": "3.9.12"
  }
 },
 "nbformat": 4,
 "nbformat_minor": 5
}
