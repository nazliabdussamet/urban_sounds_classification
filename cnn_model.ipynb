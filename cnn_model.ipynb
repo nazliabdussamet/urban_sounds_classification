{
 "cells": [
  {
   "cell_type": "markdown",
   "metadata": {},
   "source": [
    "### Gerekli kütüphanelerin indirilmesi"
   ]
  },
  {
   "cell_type": "code",
   "execution_count": 1,
   "metadata": {},
   "outputs": [],
   "source": [
    "import numpy as np\n",
    "import tensorflow as tf\n",
    "import matplotlib.pyplot as plt"
   ]
  },
  {
   "cell_type": "markdown",
   "metadata": {},
   "source": [
    "### Verisetinin yüklenmesi"
   ]
  },
  {
   "cell_type": "code",
   "execution_count": null,
   "metadata": {},
   "outputs": [],
   "source": [
    "x_train = np.array(np.load(\"x_train.npy\"))\n",
    "x_test = np.array(np.load(\"x_test.npy\"))\n",
    "x_val = np.array(np.load(\"x_val.npy\"))\n",
    "y_train = np.array(np.load(\"y_train.npy\"))\n",
    "y_test = np.array(np.load(\"y_test.npy\"))\n",
    "y_val = np.array(np.load(\"y_val.npy\"))"
   ]
  },
  {
   "cell_type": "markdown",
   "metadata": {},
   "source": [
    "### Verilerin model için yeniden şekillendirilmesi"
   ]
  },
  {
   "cell_type": "code",
   "execution_count": null,
   "metadata": {},
   "outputs": [],
   "source": [
    "x_train = x_train.reshape(-1, 96, 128, 1)\n",
    "x_test = x_test.reshape(-1, 96, 128, 1)\n",
    "x_val = x_val.reshape(-1, 96, 128, 1)"
   ]
  },
  {
   "cell_type": "markdown",
   "metadata": {},
   "source": [
    "### Modelin oluşturulması"
   ]
  },
  {
   "cell_type": "code",
   "execution_count": 2,
   "metadata": {},
   "outputs": [],
   "source": [
    "model = tf.keras.Sequential()"
   ]
  },
  {
   "cell_type": "markdown",
   "metadata": {},
   "source": [
    "### Input katmanının eklenmesi"
   ]
  },
  {
   "cell_type": "code",
   "execution_count": null,
   "metadata": {},
   "outputs": [],
   "source": [
    "model.add(tf.keras.layers.Conv2D(32,\n",
    "                                 kernel_size = (3,3),\n",
    "                                 strides = (1,1),\n",
    "                                 padding = \"same\",\n",
    "                                 activation = \"gelu\",\n",
    "                                 input_shape = (96,128,1)))"
   ]
  },
  {
   "cell_type": "markdown",
   "metadata": {},
   "source": [
    "### Ara katmanların eklenmesi"
   ]
  },
  {
   "cell_type": "code",
   "execution_count": 3,
   "metadata": {},
   "outputs": [],
   "source": [
    "model.add(tf.keras.layers.MaxPooling2D((2,2)))\n",
    "\n",
    "model.add(tf.keras.layers.Conv2D(128,\n",
    "                                 kernel_size = (3,3),\n",
    "                                 strides = (1,1),\n",
    "                                 padding = \"same\",\n",
    "                                 activation = \"relu\"))\n",
    "\n",
    "model.add(tf.keras.layers.MaxPooling2D((2,2)))\n",
    "\n",
    "model.add(tf.keras.layers.Conv2D(256,\n",
    "                                 kernel_size = (3,3),\n",
    "                                 strides = (1,1),\n",
    "                                 padding = \"same\",\n",
    "                                 activation = \"relu\"))\n",
    "\n",
    "model.add(tf.keras.layers.MaxPooling2D((2,2)))\n",
    "\n",
    "model.add(tf.keras.layers.Conv2D(128,\n",
    "                                 kernel_size = (3,3),\n",
    "                                 strides = (1,1),\n",
    "                                 padding = \"same\",\n",
    "                                 activation = \"gelu\"))\n",
    "\n",
    "model.add(tf.keras.layers.MaxPooling2D((2,2)))\n",
    "\n",
    "model.add(tf.keras.layers.Conv2D(128,\n",
    "                                 kernel_size = (3,3),\n",
    "                                 strides = (1,1),\n",
    "                                 padding = \"same\",\n",
    "                                 activation = \"relu\"))\n",
    "\n",
    "model.add(tf.keras.layers.Flatten())\n",
    "\n",
    "model.add(tf.keras.layers.Dense(64,\n",
    "                                 activation=\"relu\"))\n",
    "\n",
    "model.add(tf.keras.layers.Dropout(0.5))\n",
    "\n",
    "model.add(tf.keras.layers.Dense(64,\n",
    "                                activation=\"relu\"))\n",
    "\n",
    "model.add(tf.keras.layers.Dropout(0.5))"
   ]
  },
  {
   "cell_type": "markdown",
   "metadata": {},
   "source": [
    "### Output katmanının eklenmesi"
   ]
  },
  {
   "cell_type": "code",
   "execution_count": 10,
   "metadata": {},
   "outputs": [],
   "source": [
    "model.add(tf.keras.layers.Dense(10,\n",
    "                                activation=\"softmax\"))"
   ]
  },
  {
   "cell_type": "markdown",
   "metadata": {},
   "source": [
    "### Modelin derlenmesi"
   ]
  },
  {
   "cell_type": "code",
   "execution_count": 11,
   "metadata": {},
   "outputs": [],
   "source": [
    "model.compile(optimizer=\"adam\",\n",
    "              loss=\"sparse_categorical_crossentropy\",\n",
    "              metrics=[\"accuracy\"])"
   ]
  },
  {
   "cell_type": "markdown",
   "metadata": {},
   "source": [
    "### Modelin çalıştırılması"
   ]
  },
  {
   "cell_type": "code",
   "execution_count": 12,
   "metadata": {},
   "outputs": [
    {
     "name": "stdout",
     "output_type": "stream",
     "text": [
      "Epoch 1/50\n",
      "55/55 [==============================] - 18s 147ms/step - loss: 2.1956 - accuracy: 0.1666 - val_loss: 2.0062 - val_accuracy: 0.2883\n",
      "Epoch 2/50\n",
      "55/55 [==============================] - 6s 111ms/step - loss: 2.0160 - accuracy: 0.2511 - val_loss: 1.8575 - val_accuracy: 0.3616\n",
      "Epoch 3/50\n",
      "55/55 [==============================] - 7s 118ms/step - loss: 1.8331 - accuracy: 0.3191 - val_loss: 1.5057 - val_accuracy: 0.4565\n",
      "Epoch 4/50\n",
      "55/55 [==============================] - 6s 114ms/step - loss: 1.6252 - accuracy: 0.3927 - val_loss: 1.2478 - val_accuracy: 0.5572\n",
      "Epoch 5/50\n",
      "55/55 [==============================] - 6s 113ms/step - loss: 1.4255 - accuracy: 0.4723 - val_loss: 1.1274 - val_accuracy: 0.6087\n",
      "Epoch 6/50\n",
      "55/55 [==============================] - 6s 114ms/step - loss: 1.3112 - accuracy: 0.5165 - val_loss: 0.9613 - val_accuracy: 0.6602\n",
      "Epoch 7/50\n",
      "55/55 [==============================] - 6s 116ms/step - loss: 1.1624 - accuracy: 0.5755 - val_loss: 0.8521 - val_accuracy: 0.7517\n",
      "Epoch 8/50\n",
      "55/55 [==============================] - 6s 117ms/step - loss: 1.0333 - accuracy: 0.6394 - val_loss: 0.7305 - val_accuracy: 0.7838\n",
      "Epoch 9/50\n",
      "55/55 [==============================] - 6s 115ms/step - loss: 0.9191 - accuracy: 0.6763 - val_loss: 0.6386 - val_accuracy: 0.8101\n",
      "Epoch 10/50\n",
      "55/55 [==============================] - 6s 116ms/step - loss: 0.8530 - accuracy: 0.7152 - val_loss: 0.5578 - val_accuracy: 0.8318\n",
      "Epoch 11/50\n",
      "55/55 [==============================] - 6s 115ms/step - loss: 0.7885 - accuracy: 0.7343 - val_loss: 0.4962 - val_accuracy: 0.8535\n",
      "Epoch 12/50\n",
      "55/55 [==============================] - 6s 115ms/step - loss: 0.6931 - accuracy: 0.7729 - val_loss: 0.4339 - val_accuracy: 0.8719\n",
      "Epoch 13/50\n",
      "55/55 [==============================] - 6s 116ms/step - loss: 0.6508 - accuracy: 0.7923 - val_loss: 0.4480 - val_accuracy: 0.8581\n",
      "Epoch 14/50\n",
      "55/55 [==============================] - 6s 116ms/step - loss: 0.6115 - accuracy: 0.7997 - val_loss: 0.4255 - val_accuracy: 0.8696\n",
      "Epoch 15/50\n",
      "55/55 [==============================] - 6s 116ms/step - loss: 0.5665 - accuracy: 0.8176 - val_loss: 0.5272 - val_accuracy: 0.8455\n",
      "Epoch 16/50\n",
      "55/55 [==============================] - 6s 113ms/step - loss: 0.5234 - accuracy: 0.8275 - val_loss: 0.3519 - val_accuracy: 0.8844\n",
      "Epoch 17/50\n",
      "55/55 [==============================] - 6s 112ms/step - loss: 0.4772 - accuracy: 0.8392 - val_loss: 0.3815 - val_accuracy: 0.8822\n",
      "Epoch 18/50\n",
      "55/55 [==============================] - 7s 130ms/step - loss: 0.4489 - accuracy: 0.8517 - val_loss: 0.3768 - val_accuracy: 0.8856\n",
      "Epoch 19/50\n",
      "55/55 [==============================] - 7s 130ms/step - loss: 0.4392 - accuracy: 0.8598 - val_loss: 0.4030 - val_accuracy: 0.8753\n",
      "Epoch 20/50\n",
      "55/55 [==============================] - 7s 127ms/step - loss: 0.4107 - accuracy: 0.8667 - val_loss: 0.3829 - val_accuracy: 0.8947\n",
      "Epoch 21/50\n",
      "55/55 [==============================] - 7s 131ms/step - loss: 0.3621 - accuracy: 0.8817 - val_loss: 0.3279 - val_accuracy: 0.9016\n",
      "Epoch 22/50\n",
      "55/55 [==============================] - 7s 132ms/step - loss: 0.3560 - accuracy: 0.8790 - val_loss: 0.3360 - val_accuracy: 0.8924\n",
      "Epoch 23/50\n",
      "55/55 [==============================] - 7s 132ms/step - loss: 0.3671 - accuracy: 0.8780 - val_loss: 0.3414 - val_accuracy: 0.8982\n",
      "Epoch 24/50\n",
      "55/55 [==============================] - 7s 132ms/step - loss: 0.3649 - accuracy: 0.8813 - val_loss: 0.2793 - val_accuracy: 0.9188\n",
      "Epoch 25/50\n",
      "55/55 [==============================] - 7s 131ms/step - loss: 0.3255 - accuracy: 0.8909 - val_loss: 0.2946 - val_accuracy: 0.9142\n",
      "Epoch 26/50\n",
      "55/55 [==============================] - 7s 134ms/step - loss: 0.3095 - accuracy: 0.8974 - val_loss: 0.2980 - val_accuracy: 0.9130\n",
      "Epoch 27/50\n",
      "55/55 [==============================] - 7s 134ms/step - loss: 0.2983 - accuracy: 0.9011 - val_loss: 0.3041 - val_accuracy: 0.9165\n",
      "Epoch 28/50\n",
      "55/55 [==============================] - 7s 134ms/step - loss: 0.2690 - accuracy: 0.9077 - val_loss: 0.2707 - val_accuracy: 0.9279\n",
      "Epoch 29/50\n",
      "55/55 [==============================] - 7s 132ms/step - loss: 0.3328 - accuracy: 0.8926 - val_loss: 0.3212 - val_accuracy: 0.9096\n",
      "Epoch 30/50\n",
      "55/55 [==============================] - 7s 132ms/step - loss: 0.2928 - accuracy: 0.9041 - val_loss: 0.2820 - val_accuracy: 0.9291\n",
      "Epoch 31/50\n",
      "55/55 [==============================] - 7s 130ms/step - loss: 0.2384 - accuracy: 0.9187 - val_loss: 0.2683 - val_accuracy: 0.9291\n",
      "Epoch 32/50\n",
      "55/55 [==============================] - 7s 131ms/step - loss: 0.2594 - accuracy: 0.9160 - val_loss: 0.3040 - val_accuracy: 0.9233\n",
      "Epoch 33/50\n",
      "55/55 [==============================] - 7s 131ms/step - loss: 0.2515 - accuracy: 0.9132 - val_loss: 0.2898 - val_accuracy: 0.9279\n",
      "Epoch 34/50\n",
      "55/55 [==============================] - 7s 135ms/step - loss: 0.2599 - accuracy: 0.9154 - val_loss: 0.3566 - val_accuracy: 0.9039\n",
      "Epoch 35/50\n",
      "55/55 [==============================] - 7s 135ms/step - loss: 0.2284 - accuracy: 0.9224 - val_loss: 0.3098 - val_accuracy: 0.9176\n",
      "Epoch 36/50\n",
      "55/55 [==============================] - 7s 134ms/step - loss: 0.2276 - accuracy: 0.9241 - val_loss: 0.3219 - val_accuracy: 0.9222\n",
      "Epoch 37/50\n",
      "55/55 [==============================] - 7s 134ms/step - loss: 0.2063 - accuracy: 0.9347 - val_loss: 0.3995 - val_accuracy: 0.9153\n",
      "Epoch 38/50\n",
      "55/55 [==============================] - 7s 132ms/step - loss: 0.2149 - accuracy: 0.9281 - val_loss: 0.3353 - val_accuracy: 0.9142\n",
      "Epoch 39/50\n",
      "55/55 [==============================] - 7s 133ms/step - loss: 0.2045 - accuracy: 0.9347 - val_loss: 0.3438 - val_accuracy: 0.9188\n",
      "Epoch 40/50\n",
      "55/55 [==============================] - 7s 131ms/step - loss: 0.2055 - accuracy: 0.9324 - val_loss: 0.3655 - val_accuracy: 0.9199\n",
      "Epoch 41/50\n",
      "55/55 [==============================] - 7s 134ms/step - loss: 0.2605 - accuracy: 0.9215 - val_loss: 0.4524 - val_accuracy: 0.9233\n",
      "Epoch 42/50\n",
      "55/55 [==============================] - 7s 134ms/step - loss: 0.2224 - accuracy: 0.9277 - val_loss: 0.3227 - val_accuracy: 0.9245\n",
      "Epoch 43/50\n",
      "55/55 [==============================] - 7s 131ms/step - loss: 0.1812 - accuracy: 0.9379 - val_loss: 0.3621 - val_accuracy: 0.9233\n",
      "Epoch 44/50\n",
      "55/55 [==============================] - 7s 131ms/step - loss: 0.1825 - accuracy: 0.9426 - val_loss: 0.3664 - val_accuracy: 0.9268\n",
      "Epoch 45/50\n",
      "55/55 [==============================] - 7s 132ms/step - loss: 0.1843 - accuracy: 0.9394 - val_loss: 0.4728 - val_accuracy: 0.8936\n",
      "Epoch 46/50\n",
      "55/55 [==============================] - 7s 132ms/step - loss: 0.2043 - accuracy: 0.9360 - val_loss: 0.3325 - val_accuracy: 0.9142\n",
      "Epoch 47/50\n",
      "55/55 [==============================] - 7s 132ms/step - loss: 0.1867 - accuracy: 0.9390 - val_loss: 0.3243 - val_accuracy: 0.9233\n",
      "Epoch 48/50\n",
      "55/55 [==============================] - 7s 132ms/step - loss: 0.1540 - accuracy: 0.9499 - val_loss: 0.3909 - val_accuracy: 0.9188\n",
      "Epoch 49/50\n",
      "55/55 [==============================] - 7s 131ms/step - loss: 0.1738 - accuracy: 0.9440 - val_loss: 0.3434 - val_accuracy: 0.9233\n",
      "Epoch 50/50\n",
      "55/55 [==============================] - 7s 130ms/step - loss: 0.1827 - accuracy: 0.9394 - val_loss: 0.3955 - val_accuracy: 0.9256\n"
     ]
    }
   ],
   "source": [
    "results = model.fit(x_train, y_train,\n",
    "                    batch_size=128,\n",
    "                    epochs=50,\n",
    "                    validation_data=(x_val,y_val))"
   ]
  },
  {
   "cell_type": "markdown",
   "metadata": {},
   "source": [
    "### Modelin kontrolü için validation set ile kıyası"
   ]
  },
  {
   "cell_type": "code",
   "execution_count": 13,
   "metadata": {},
   "outputs": [
    {
     "data": {
      "image/png": "[encoded data removed]",
      "text/plain": [
       "<Figure size 432x288 with 1 Axes>"
      ]
     },
     "metadata": {
      "needs_background": "light"
     },
     "output_type": "display_data"
    }
   ],
   "source": [
    "plt.plot(results.history[\"loss\"], label=\"loss\")\n",
    "\n",
    "plt.plot(results.history[\"val_loss\"], label=\"val_loss\")\n",
    "\n",
    "plt.xlabel(\"Epoch\")\n",
    "plt.ylabel(\"Loss\")\n",
    "\n",
    "plt.legend()\n",
    "\n",
    "plt.show()"
   ]
  },
  {
   "cell_type": "code",
   "execution_count": 14,
   "metadata": {},
   "outputs": [
    {
     "data": {
      "image/png": "[encoded data removed]",
      "text/plain": [
       "<Figure size 432x288 with 1 Axes>"
      ]
     },
     "metadata": {
      "needs_background": "light"
     },
     "output_type": "display_data"
    }
   ],
   "source": [
    "plt.plot(results.history[\"accuracy\"], label=\"accuracy\")\n",
    "\n",
    "plt.plot(results.history[\"val_accuracy\"], label=\"val_accuracy\")\n",
    "\n",
    "plt.xlabel(\"Epoch\")\n",
    "plt.ylabel(\"Accuracy\")\n",
    "\n",
    "plt.legend()\n",
    "\n",
    "plt.show()"
   ]
  },
  {
   "cell_type": "markdown",
   "metadata": {},
   "source": [
    "### Modelin test veriseti kullanılarak değerlendirilmesi"
   ]
  },
  {
   "cell_type": "code",
   "execution_count": 15,
   "metadata": {},
   "outputs": [
    {
     "name": "stdout",
     "output_type": "stream",
     "text": [
      "28/28 [==============================] - 1s 21ms/step - loss: 0.5712 - accuracy: 0.9129\n"
     ]
    },
    {
     "data": {
      "text/plain": [
       "[0.5711514949798584, 0.9129438996315002]"
      ]
     },
     "execution_count": 15,
     "metadata": {},
     "output_type": "execute_result"
    }
   ],
   "source": [
    "model.evaluate(x_test, y_test)"
   ]
  }
 ],
 "metadata": {
  "kernelspec": {
   "display_name": "Python 3 (ipykernel)",
   "language": "python",
   "name": "python3"
  },
  "language_info": {
   "codemirror_mode": {
    "name": "ipython",
    "version": 3
   },
   "file_extension": ".py",
   "mimetype": "text/x-python",
   "name": "python",
   "nbconvert_exporter": "python",
   "pygments_lexer": "ipython3",
   "version": "3.9.7"
  },
  "vscode": {
   "interpreter": {
    "hash": "8606a131322c613504b286d390da4d4ae53d0e9600ce56caa7177143f04754e4"
   }
  }
 },
 "nbformat": 4,
 "nbformat_minor": 2
}
